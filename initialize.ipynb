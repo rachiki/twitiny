{
 "cells": [
  {
   "cell_type": "code",
   "execution_count": 1,
   "metadata": {},
   "outputs": [],
   "source": [
    "import sqlite3\n",
    "from initialization_resources import InitialTables, InitializeData"
   ]
  },
  {
   "cell_type": "code",
   "execution_count": 2,
   "metadata": {},
   "outputs": [],
   "source": [
    "connection = sqlite3.connect('twitiny.db')"
   ]
  },
  {
   "cell_type": "code",
   "execution_count": 10,
   "metadata": {},
   "outputs": [],
   "source": [
    "tables = InitialTables()\n",
    "tables.create_tables(connection)"
   ]
  },
  {
   "cell_type": "code",
   "execution_count": 11,
   "metadata": {},
   "outputs": [
    {
     "name": "stdout",
     "output_type": "stream",
     "text": [
      "An error occurred while adding users: UNIQUE constraint failed: users.email\n",
      "An error occurred while adding follows: UNIQUE constraint failed: follows.follower_id, follows.being_followed_id\n",
      "An error occurred while adding likes: UNIQUE constraint failed: likes.user_id, likes.twit_id\n"
     ]
    }
   ],
   "source": [
    "initialize = InitializeData()\n",
    "initialize.create_initial_data(connection)"
   ]
  },
  {
   "cell_type": "code",
   "execution_count": 12,
   "metadata": {},
   "outputs": [
    {
     "name": "stdout",
     "output_type": "stream",
     "text": [
      "(1, 'water_monk', 'water', 'water@temple.com', '2023-11-21 16:32:52', None)\n",
      "(2, 'earth_monk', 'earth', 'earth@temple.com', '2023-11-21 16:32:52', None)\n",
      "(3, 'fire_monk', 'fire', 'fire@temple.com', '2023-11-21 16:32:52', None)\n",
      "(4, 'air_monk', 'air', 'air@temple.com', '2023-11-21 16:32:52', None)\n",
      "(5, 'avatar', 'unity', 'avatar@spiritual_realm.com', '2023-11-21 16:32:52', None)\n",
      "\n",
      "(1, 2, '2023-11-21 16:32:52')\n",
      "(1, 4, '2023-11-21 16:32:52')\n",
      "(1, 5, '2023-11-21 16:32:52')\n",
      "(2, 1, '2023-11-21 16:32:52')\n",
      "(2, 3, '2023-11-21 16:32:52')\n",
      "(2, 5, '2023-11-21 16:32:52')\n",
      "(3, 2, '2023-11-21 16:32:52')\n",
      "(3, 4, '2023-11-21 16:32:52')\n",
      "(3, 5, '2023-11-21 16:32:52')\n",
      "(5, 1, '2023-11-21 16:32:52')\n",
      "(5, 2, '2023-11-21 16:32:52')\n",
      "(5, 3, '2023-11-21 16:32:52')\n",
      "(5, 4, '2023-11-21 16:32:52')\n",
      "\n",
      "(1, 1, 'water is awesome!', '2023-11-21 16:32:52')\n",
      "(2, 2, 'earth is awesome!', '2023-11-21 16:32:52')\n",
      "(3, 3, 'fire is awesome!', '2023-11-21 16:32:52')\n",
      "(4, 4, 'air is awesome!', '2023-11-21 16:32:52')\n",
      "(5, 5, 'let us all coexist!', '2023-11-21 16:32:52')\n",
      "(6, 1, 'water is awesome!', '2023-11-21 16:34:32')\n",
      "(7, 2, 'earth is awesome!', '2023-11-21 16:34:32')\n",
      "(8, 3, 'fire is awesome!', '2023-11-21 16:34:32')\n",
      "(9, 4, 'air is awesome!', '2023-11-21 16:34:32')\n",
      "(10, 5, 'let us all coexist!', '2023-11-21 16:34:32')\n",
      "\n",
      "(1, 1, '2023-11-21 16:32:52')\n",
      "(1, 2, '2023-11-21 16:32:52')\n",
      "(1, 3, '2023-11-21 16:32:52')\n",
      "(1, 5, '2023-11-21 16:32:52')\n",
      "(2, 1, '2023-11-21 16:32:52')\n",
      "(2, 2, '2023-11-21 16:32:52')\n",
      "(2, 3, '2023-11-21 16:32:52')\n",
      "(2, 5, '2023-11-21 16:32:52')\n",
      "(3, 1, '2023-11-21 16:32:52')\n",
      "(3, 2, '2023-11-21 16:32:52')\n",
      "(3, 3, '2023-11-21 16:32:52')\n",
      "(3, 5, '2023-11-21 16:32:52')\n",
      "(4, 4, '2023-11-21 16:32:52')\n",
      "(5, 1, '2023-11-21 16:32:52')\n",
      "(5, 2, '2023-11-21 16:32:52')\n",
      "(5, 3, '2023-11-21 16:32:52')\n",
      "(5, 4, '2023-11-21 16:32:52')\n",
      "(5, 5, '2023-11-21 16:32:52')\n",
      "\n"
     ]
    }
   ],
   "source": [
    "# Query the database\n",
    "cursor = connection.cursor()\n",
    "\n",
    "# Fetch and display the results\n",
    "cursor.execute('SELECT * FROM users')\n",
    "for row in cursor.fetchall():\n",
    "    print(row)\n",
    "print()\n",
    "\n",
    "# Fetch and display the results\n",
    "cursor.execute('SELECT * FROM follows')\n",
    "for row in cursor.fetchall():\n",
    "    print(row)\n",
    "print()\n",
    "\n",
    "# Fetch and display the results\n",
    "cursor.execute('SELECT * FROM twits')\n",
    "for row in cursor.fetchall():\n",
    "    print(row)\n",
    "print()\n",
    "\n",
    "# Fetch and display the results\n",
    "cursor.execute('SELECT * FROM likes')\n",
    "for row in cursor.fetchall():\n",
    "    print(row)\n",
    "print()\n"
   ]
  },
  {
   "cell_type": "code",
   "execution_count": null,
   "metadata": {},
   "outputs": [],
   "source": []
  }
 ],
 "metadata": {
  "kernelspec": {
   "display_name": "twitiny",
   "language": "python",
   "name": "python3"
  },
  "language_info": {
   "codemirror_mode": {
    "name": "ipython",
    "version": 3
   },
   "file_extension": ".py",
   "mimetype": "text/x-python",
   "name": "python",
   "nbconvert_exporter": "python",
   "pygments_lexer": "ipython3",
   "version": "3.10.12"
  }
 },
 "nbformat": 4,
 "nbformat_minor": 2
}
